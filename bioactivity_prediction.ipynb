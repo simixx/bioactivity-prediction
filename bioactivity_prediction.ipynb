{
 "cells": [
  {
   "cell_type": "code",
   "execution_count": 3,
   "metadata": {
    "colab": {
     "base_uri": "https://localhost:8080/"
    },
    "id": "Pi4nfQQ_DT8n",
    "outputId": "c42b0b36-cbc4-4bb5-8e0f-6c79234eba4c"
   },
   "outputs": [
    {
     "name": "stderr",
     "output_type": "stream",
     "text": [
      "ERROR: Invalid requirement: '#installing'\n",
      "\n",
      "[notice] A new release of pip is available: 23.1.2 -> 23.2.1\n",
      "[notice] To update, run: python.exe -m pip install --upgrade pip\n"
     ]
    }
   ],
   "source": [
    "! pip install chembl_webresource_client     #installing the ChEMBL web service package so that we can retrieve bioactivity data from the ChEMBL Database."
   ]
  },
  {
   "cell_type": "code",
   "execution_count": 4,
   "metadata": {
    "colab": {
     "base_uri": "https://localhost:8080/"
    },
    "id": "ZyqhtuQKkXRu",
    "outputId": "46196f44-c74f-48bc-9af0-e4dd0f4f1154"
   },
   "outputs": [
    {
     "ename": "ModuleNotFoundError",
     "evalue": "No module named 'google.colab'",
     "output_type": "error",
     "traceback": [
      "\u001b[1;31m---------------------------------------------------------------------------\u001b[0m",
      "\u001b[1;31mModuleNotFoundError\u001b[0m                       Traceback (most recent call last)",
      "Cell \u001b[1;32mIn[4], line 1\u001b[0m\n\u001b[1;32m----> 1\u001b[0m \u001b[38;5;28;01mfrom\u001b[39;00m \u001b[38;5;21;01mgoogle\u001b[39;00m\u001b[38;5;21;01m.\u001b[39;00m\u001b[38;5;21;01mcolab\u001b[39;00m \u001b[38;5;28;01mimport\u001b[39;00m drive\n\u001b[0;32m      2\u001b[0m drive\u001b[38;5;241m.\u001b[39mmount(\u001b[38;5;124m'\u001b[39m\u001b[38;5;124m/content/drive\u001b[39m\u001b[38;5;124m'\u001b[39m)\n",
      "\u001b[1;31mModuleNotFoundError\u001b[0m: No module named 'google.colab'"
     ]
    }
   ],
   "source": [
    "from google.colab import drive\n",
    "drive.mount('/content/drive')"
   ]
  },
  {
   "cell_type": "code",
   "execution_count": null,
   "metadata": {
    "id": "3i2ytTzVECO2"
   },
   "outputs": [],
   "source": [
    "# Import necessary libraries\n",
    "import pandas as pd\n",
    "from chembl_webresource_client.new_client import new_client"
   ]
  },
  {
   "cell_type": "code",
   "execution_count": null,
   "metadata": {
    "colab": {
     "base_uri": "https://localhost:8080/",
     "height": 764
    },
    "id": "dCXGsar-EI8f",
    "outputId": "517cca7e-886c-4370-8eb5-1036e8def73e"
   },
   "outputs": [],
   "source": [
    "# Target search for coronavirus\n",
    "target = new_client.target\n",
    "target_query = target.search('coronavirus')\n",
    "targets = pd.DataFrame.from_dict(target_query)\n",
    "targets"
   ]
  },
  {
   "cell_type": "code",
   "execution_count": null,
   "metadata": {
    "colab": {
     "base_uri": "https://localhost:8080/",
     "height": 39
    },
    "id": "DF9AyqXBcesU",
    "outputId": "0f69e0b4-8eb1-429b-9354-f6c03f1030e6"
   },
   "outputs": [],
   "source": [
    "selected_target = targets.target_chembl_id[6]\n",
    "selected_target"
   ]
  },
  {
   "cell_type": "code",
   "execution_count": null,
   "metadata": {
    "id": "USQnoS8hHt9l"
   },
   "outputs": [],
   "source": [
    "activity = new_client.activity\n",
    "res = activity.filter(target_chembl_id=selected_target).filter(standard_type=\"IC50\")"
   ]
  },
  {
   "cell_type": "code",
   "execution_count": null,
   "metadata": {
    "id": "hj-eM7sKHxGC"
   },
   "outputs": [],
   "source": [
    "df = pd.DataFrame.from_dict(res)"
   ]
  },
  {
   "cell_type": "code",
   "execution_count": null,
   "metadata": {
    "colab": {
     "base_uri": "https://localhost:8080/",
     "height": 296
    },
    "id": "ryZECvGgH1QZ",
    "outputId": "d62cfa4b-8e5d-44f8-d7d2-4aeb9c271b8c"
   },
   "outputs": [],
   "source": [
    "df.head(3)"
   ]
  },
  {
   "cell_type": "code",
   "execution_count": null,
   "metadata": {
    "id": "jm6i6dUsTqSH"
   },
   "outputs": [],
   "source": [
    "df.to_csv('bioactivity_data.csv', index=False)"
   ]
  },
  {
   "cell_type": "code",
   "execution_count": null,
   "metadata": {
    "colab": {
     "base_uri": "https://localhost:8080/"
    },
    "id": "6GLPLEPlVMmU",
    "outputId": "ff7617aa-7653-4a2b-bc08-7a453df481ce"
   },
   "outputs": [],
   "source": [
    "from google.colab import drive\n",
    "drive.mount('/content/gdrive/', force_remount=True)"
   ]
  },
  {
   "cell_type": "code",
   "execution_count": null,
   "metadata": {
    "colab": {
     "base_uri": "https://localhost:8080/"
    },
    "id": "BwKKDQ6VVlEH",
    "outputId": "35f0d3f6-5e3b-488e-a12e-72294b0269be"
   },
   "outputs": [],
   "source": [
    "! mkdir \"/content/gdrive/My Drive/Colab Notebooks/data2\""
   ]
  },
  {
   "cell_type": "code",
   "execution_count": null,
   "metadata": {
    "id": "A4M_7Q7NVwj3"
   },
   "outputs": [],
   "source": [
    "! cp bioactivity_data.csv \"/content/gdrive/My Drive/Colab Notebooks/data\""
   ]
  },
  {
   "cell_type": "code",
   "execution_count": null,
   "metadata": {
    "colab": {
     "base_uri": "https://localhost:8080/"
    },
    "id": "fui-sQHRV6_k",
    "outputId": "583c9aeb-3d69-46ee-a87b-43659d7aa469"
   },
   "outputs": [],
   "source": [
    "! ls -l \"/content/gdrive/My Drive/Colab Notebooks/data\""
   ]
  },
  {
   "cell_type": "code",
   "execution_count": null,
   "metadata": {
    "colab": {
     "base_uri": "https://localhost:8080/"
    },
    "id": "Q_G5MVhYV94F",
    "outputId": "04b15227-ede8-4e8b-97a6-1ffd01576d5a"
   },
   "outputs": [],
   "source": [
    "! ls"
   ]
  },
  {
   "cell_type": "code",
   "execution_count": null,
   "metadata": {
    "colab": {
     "base_uri": "https://localhost:8080/"
    },
    "id": "L5OKSNYLWK4F",
    "outputId": "171c5644-cbd9-4632-db88-9b21b2873e25"
   },
   "outputs": [],
   "source": [
    "! head bioactivity_data.csv"
   ]
  },
  {
   "cell_type": "code",
   "execution_count": null,
   "metadata": {
    "colab": {
     "base_uri": "https://localhost:8080/",
     "height": 877
    },
    "id": "E_HKhUFAWOHQ",
    "outputId": "f8f9e241-e206-4b20-8394-25b21c04f20e"
   },
   "outputs": [],
   "source": [
    "df2 = df[df.standard_value.notna()]   #handling missing data\n",
    "df2"
   ]
  },
  {
   "cell_type": "code",
   "execution_count": null,
   "metadata": {
    "id": "4t4qoi2eWX1K"
   },
   "outputs": [],
   "source": [
    "bioactivity_class = []\n",
    "for i in df2.standard_value:\n",
    "  if float(i) >= 10000:\n",
    "    bioactivity_class.append(\"inactive\")\n",
    "  elif float(i) <= 1000:\n",
    "    bioactivity_class.append(\"active\")\n",
    "  else:\n",
    "    bioactivity_class.append(\"intermediate\")"
   ]
  },
  {
   "cell_type": "code",
   "execution_count": null,
   "metadata": {
    "id": "LMeFEtlqWid9"
   },
   "outputs": [],
   "source": [
    "mol_cid = []\n",
    "for i in df2.molecule_chembl_id:\n",
    "  mol_cid.append(i)"
   ]
  },
  {
   "cell_type": "code",
   "execution_count": null,
   "metadata": {
    "id": "VFLU4XmkZPI3"
   },
   "outputs": [],
   "source": [
    "canonical_smiles = []\n",
    "for i in df2.canonical_smiles:\n",
    "  canonical_smiles.append(i)"
   ]
  },
  {
   "cell_type": "code",
   "execution_count": null,
   "metadata": {
    "id": "q8IXGt8AZSAA"
   },
   "outputs": [],
   "source": [
    "standard_value = []\n",
    "for i in df2.standard_value:\n",
    "  standard_value.append(i)"
   ]
  },
  {
   "cell_type": "code",
   "execution_count": null,
   "metadata": {
    "id": "FXfNFTVaZUsM"
   },
   "outputs": [],
   "source": [
    "data_tuples = list(zip(mol_cid, canonical_smiles, bioactivity_class, standard_value))\n",
    "df3 = pd.DataFrame( data_tuples,  columns=['molecule_chembl_id', 'canonical_smiles', 'bioactivity_class', 'standard_value'])"
   ]
  },
  {
   "cell_type": "code",
   "execution_count": null,
   "metadata": {
    "colab": {
     "base_uri": "https://localhost:8080/",
     "height": 423
    },
    "id": "yTUyXZc_ZXYa",
    "outputId": "1fe5a0b5-79f8-4199-9b83-e07d10cd8d3c"
   },
   "outputs": [],
   "source": [
    "df3"
   ]
  },
  {
   "cell_type": "code",
   "execution_count": null,
   "metadata": {
    "colab": {
     "base_uri": "https://localhost:8080/",
     "height": 423
    },
    "id": "tyVU9jeodfRs",
    "outputId": "3b846e07-8d52-42b0-b680-d4e240f0a71e"
   },
   "outputs": [],
   "source": [
    "pd.concat([df3,pd.Series(bioactivity_class)], axis=1)"
   ]
  },
  {
   "cell_type": "code",
   "execution_count": null,
   "metadata": {
    "id": "nnectXTId00F"
   },
   "outputs": [],
   "source": [
    "df3.to_csv('bioactivity_preprocessed_data.csv', index=False)"
   ]
  },
  {
   "cell_type": "code",
   "execution_count": null,
   "metadata": {
    "colab": {
     "base_uri": "https://localhost:8080/"
    },
    "id": "JZSBDhPVd3FJ",
    "outputId": "352ccae9-cd86-472a-efa9-2e699f8fbd4d"
   },
   "outputs": [],
   "source": [
    "! ls -l"
   ]
  },
  {
   "cell_type": "code",
   "execution_count": null,
   "metadata": {
    "id": "40mpS4fSd_tv"
   },
   "outputs": [],
   "source": [
    "! cp bioactivity_preprocessed_data.csv \"/content/gdrive/My Drive/Colab Notebooks/data\""
   ]
  },
  {
   "cell_type": "code",
   "execution_count": null,
   "metadata": {
    "colab": {
     "base_uri": "https://localhost:8080/"
    },
    "id": "XGuPVsEseEWd",
    "outputId": "efd2ec8a-bb9c-4122-fa7d-6f07faffda7e"
   },
   "outputs": [],
   "source": [
    "! ls \"/content/gdrive/My Drive/Colab Notebooks/data\""
   ]
  },
  {
   "cell_type": "code",
   "execution_count": null,
   "metadata": {
    "colab": {
     "base_uri": "https://localhost:8080/"
    },
    "id": "3OFcmY21_PAB",
    "outputId": "f94225ac-42df-42b5-c657-05bd9999849b"
   },
   "outputs": [],
   "source": [
    "! wget https://repo.anaconda.com/miniconda/Miniconda3-py37_4.8.2-Linux-x86_64.sh\n",
    "! chmod +x Miniconda3-py37_4.8.2-Linux-x86_64.sh\n",
    "! bash ./Miniconda3-py37_4.8.2-Linux-x86_64.sh -b -f -p /usr/local\n",
    "! conda install -c rdkit rdkit -y\n",
    "import sys\n",
    "sys.path.append('/usr/local/lib/python3.7/site-packages/')"
   ]
  },
  {
   "cell_type": "code",
   "execution_count": null,
   "metadata": {
    "id": "6-cl2RJUiGHb"
   },
   "outputs": [],
   "source": [
    "df = pd.read_csv('bioactivity_preprocessed_data.csv')"
   ]
  },
  {
   "cell_type": "code",
   "execution_count": null,
   "metadata": {
    "colab": {
     "base_uri": "https://localhost:8080/"
    },
    "id": "-0rVTPGal_ZB",
    "outputId": "ff6796c8-176b-4eba-c322-cb3f0a7dbc77"
   },
   "outputs": [],
   "source": [
    "from google.colab import drive\n",
    "drive.mount('/content/drive')"
   ]
  },
  {
   "cell_type": "code",
   "execution_count": null,
   "metadata": {
    "colab": {
     "base_uri": "https://localhost:8080/"
    },
    "id": "JAZrPxqApnBa",
    "outputId": "a0f2973b-97ed-41c6-eee2-ac25d5db8aa2"
   },
   "outputs": [],
   "source": [
    "!pip install rdkit"
   ]
  },
  {
   "cell_type": "code",
   "execution_count": null,
   "metadata": {
    "id": "_jjkJJVEllCt"
   },
   "outputs": [],
   "source": [
    "\n",
    "import numpy as np\n",
    "from rdkit import Chem\n",
    "from rdkit.Chem import Descriptors, Lipinski\n"
   ]
  },
  {
   "cell_type": "code",
   "execution_count": null,
   "metadata": {
    "id": "lMUh2zoYnoaL"
   },
   "outputs": [],
   "source": [
    "def lipinski(smiles, verbose=False):\n",
    "\n",
    "    moldata= []\n",
    "    for elem in smiles:\n",
    "        mol=Chem.MolFromSmiles(elem)\n",
    "        moldata.append(mol)\n",
    "\n",
    "    baseData= np.arange(1,1)\n",
    "    i=0\n",
    "    for mol in moldata:\n",
    "      desc_MolWt = Descriptors.MolWt(mol)\n",
    "      desc_MolLogP = Descriptors.MolLogP(mol)\n",
    "      desc_NumHDonors = Lipinski.NumHDonors(mol)\n",
    "      desc_NumHAcceptors = Lipinski.NumHAcceptors(mol)\n",
    "\n",
    "      row = np.array([desc_MolWt,\n",
    "                        desc_MolLogP,\n",
    "                        desc_NumHDonors,\n",
    "                        desc_NumHAcceptors])\n",
    "\n",
    "      if(i==0):\n",
    "            baseData=row\n",
    "      else:\n",
    "              baseData=np.vstack([baseData, row])\n",
    "      i=i+1\n",
    "\n",
    "    columnNames=[\"MW\",\"LogP\",\"NumHDonors\",\"NumHAcceptors\"]\n",
    "    descriptors = pd.DataFrame(data=baseData,columns=columnNames)\n",
    "\n",
    "    return descriptors"
   ]
  },
  {
   "cell_type": "code",
   "execution_count": null,
   "metadata": {
    "id": "4cyD-v0GrGIc"
   },
   "outputs": [],
   "source": [
    "df_lipinski = lipinski(df.canonical_smiles)"
   ]
  },
  {
   "cell_type": "code",
   "execution_count": null,
   "metadata": {
    "id": "K2fhhkaOrMsV"
   },
   "outputs": [],
   "source": []
  },
  {
   "cell_type": "code",
   "execution_count": null,
   "metadata": {
    "colab": {
     "base_uri": "https://localhost:8080/",
     "height": 423
    },
    "id": "dnuzYaQwrM7M",
    "outputId": "7ff289a8-f751-453d-a52f-65d3d1649ab8"
   },
   "outputs": [],
   "source": [
    "df_lipinski\n"
   ]
  },
  {
   "cell_type": "code",
   "execution_count": null,
   "metadata": {
    "colab": {
     "base_uri": "https://localhost:8080/",
     "height": 423
    },
    "id": "Q9AbFAIUrQeg",
    "outputId": "67947c0c-28a8-417d-95ab-d37e44a96ad4"
   },
   "outputs": [],
   "source": [
    "df"
   ]
  },
  {
   "cell_type": "code",
   "execution_count": null,
   "metadata": {
    "id": "Jr-RE9jHsRWT"
   },
   "outputs": [],
   "source": [
    "df_combined = pd.concat([df,df_lipinski], axis=1)"
   ]
  },
  {
   "cell_type": "code",
   "execution_count": null,
   "metadata": {
    "colab": {
     "base_uri": "https://localhost:8080/",
     "height": 495
    },
    "id": "ZvOdB_5gsXk3",
    "outputId": "e534179a-cfc1-41f7-ab5b-bd9d2b14c523"
   },
   "outputs": [],
   "source": [
    "df_combined"
   ]
  },
  {
   "cell_type": "code",
   "execution_count": null,
   "metadata": {
    "id": "PqkukgNVtHkw"
   },
   "outputs": [],
   "source": [
    "import numpy as np\n",
    "\n",
    "def pIC50(input):\n",
    "    pIC50 = []\n",
    "\n",
    "    for i in input['standard_value_norm']:\n",
    "        molar = i*(10**-9) # Converts nM to M\n",
    "        pIC50.append(-np.log10(molar))\n",
    "\n",
    "    input['pIC50'] = pIC50\n",
    "    x = input.drop('standard_value_norm', 1)\n",
    "\n",
    "    return x"
   ]
  },
  {
   "cell_type": "code",
   "execution_count": null,
   "metadata": {
    "colab": {
     "base_uri": "https://localhost:8080/"
    },
    "id": "7KbiwViLtj9z",
    "outputId": "d5b9e896-c572-4c1e-d18f-b0e2b7b267c5"
   },
   "outputs": [],
   "source": [
    "df_combined.standard_value.describe()"
   ]
  },
  {
   "cell_type": "code",
   "execution_count": null,
   "metadata": {
    "colab": {
     "base_uri": "https://localhost:8080/"
    },
    "id": "h1IBFFpXtqS1",
    "outputId": "417965a9-b6b9-4ba9-9756-5aaa64646831"
   },
   "outputs": [],
   "source": [
    "-np.log10( (10**-9)* 100000000 )"
   ]
  },
  {
   "cell_type": "code",
   "execution_count": null,
   "metadata": {
    "colab": {
     "base_uri": "https://localhost:8080/"
    },
    "id": "j9CTn4TxtvzW",
    "outputId": "0662fa6f-7f6d-4d48-ce62-1e6ef5a7d8b5"
   },
   "outputs": [],
   "source": [
    "-np.log10( (10**-9)* 10000000000 )"
   ]
  },
  {
   "cell_type": "code",
   "execution_count": null,
   "metadata": {
    "id": "yiE2NRGut2_h"
   },
   "outputs": [],
   "source": [
    "def norm_value(input):\n",
    "    norm = []\n",
    "\n",
    "    for i in input['standard_value']:\n",
    "        if i > 100000000:\n",
    "          i = 100000000\n",
    "        norm.append(i)\n",
    "\n",
    "    input['standard_value_norm'] = norm\n",
    "    x = input.drop('standard_value', 1)\n",
    "\n",
    "    return x"
   ]
  },
  {
   "cell_type": "code",
   "execution_count": null,
   "metadata": {
    "colab": {
     "base_uri": "https://localhost:8080/",
     "height": 531
    },
    "id": "-0L-04Xp-2cp",
    "outputId": "f5834b60-78af-40ac-8eaf-eccc41938a5d"
   },
   "outputs": [],
   "source": [
    "df_norm = norm_value(df_combined)\n",
    "df_norm"
   ]
  },
  {
   "cell_type": "code",
   "execution_count": null,
   "metadata": {
    "colab": {
     "base_uri": "https://localhost:8080/"
    },
    "id": "hY8rKjhGIXBn",
    "outputId": "afa09c55-bb7c-43fd-dbf4-bc01d768600c"
   },
   "outputs": [],
   "source": [
    "df_norm.standard_value_norm.describe()"
   ]
  },
  {
   "cell_type": "code",
   "execution_count": null,
   "metadata": {
    "colab": {
     "base_uri": "https://localhost:8080/",
     "height": 531
    },
    "id": "BvCLnfqFIY5_",
    "outputId": "45f92458-82cc-4cef-d2ec-86f0a190922d"
   },
   "outputs": [],
   "source": [
    "df_final = pIC50(df_norm)\n",
    "df_final"
   ]
  },
  {
   "cell_type": "code",
   "execution_count": null,
   "metadata": {
    "colab": {
     "base_uri": "https://localhost:8080/"
    },
    "id": "JRY_D4czIgTy",
    "outputId": "6c0a3234-f063-48ac-fe0b-3c1729c586fe"
   },
   "outputs": [],
   "source": [
    "df_final.pIC50.describe()"
   ]
  },
  {
   "cell_type": "code",
   "execution_count": null,
   "metadata": {
    "colab": {
     "base_uri": "https://localhost:8080/",
     "height": 478
    },
    "id": "ZO49HoZ8IoLb",
    "outputId": "9d367717-16f7-48ac-a248-0f51dccfcc9e"
   },
   "outputs": [],
   "source": [
    "df_2class = df_final[df_final.bioactivity_class != 'intermediate']\n",
    "df_2class"
   ]
  },
  {
   "cell_type": "code",
   "execution_count": null,
   "metadata": {
    "id": "gQZiuoCPIvKq"
   },
   "outputs": [],
   "source": [
    "import seaborn as sns\n",
    "sns.set(style='ticks')\n",
    "import matplotlib.pyplot as plt"
   ]
  },
  {
   "cell_type": "code",
   "execution_count": null,
   "metadata": {
    "colab": {
     "base_uri": "https://localhost:8080/",
     "height": 513
    },
    "id": "S8qmSaT9Iz8D",
    "outputId": "6caa3257-c4b2-448a-85c0-41bfc5f96b17"
   },
   "outputs": [],
   "source": [
    "plt.figure(figsize=(5.5, 5.5))\n",
    "\n",
    "sns.countplot(x='bioactivity_class', data=df_2class, edgecolor='black')\n",
    "\n",
    "plt.xlabel('Bioactivity class', fontsize=14, fontweight='bold')\n",
    "plt.ylabel('Frequency', fontsize=14, fontweight='bold')\n",
    "\n",
    "plt.savefig('plot_bioactivity_class.pdf')"
   ]
  },
  {
   "cell_type": "code",
   "execution_count": null,
   "metadata": {
    "colab": {
     "base_uri": "https://localhost:8080/",
     "height": 513
    },
    "id": "WhUZ0Lr6I8aF",
    "outputId": "b00d18b6-012a-4e8b-88ae-5ec3b47d52ad"
   },
   "outputs": [],
   "source": [
    "plt.figure(figsize=(5.5, 5.5))\n",
    "\n",
    "sns.scatterplot(x='MW', y='LogP', data=df_2class, hue='bioactivity_class', size='pIC50', edgecolor='black', alpha=0.7)\n",
    "\n",
    "plt.xlabel('MW', fontsize=14, fontweight='bold')\n",
    "plt.ylabel('LogP', fontsize=14, fontweight='bold')\n",
    "plt.legend(bbox_to_anchor=(1.05, 1), loc=2, borderaxespad=0)\n",
    "plt.savefig('plot_MW_vs_LogP.pdf')"
   ]
  },
  {
   "cell_type": "code",
   "execution_count": null,
   "metadata": {
    "colab": {
     "base_uri": "https://localhost:8080/",
     "height": 513
    },
    "id": "-JKG-cP5I-gh",
    "outputId": "61ad3181-f48f-4785-8211-be5a05b4d290"
   },
   "outputs": [],
   "source": [
    "plt.figure(figsize=(5.5, 5.5))\n",
    "\n",
    "sns.boxplot(x = 'bioactivity_class', y = 'pIC50', data = df_2class)\n",
    "\n",
    "plt.xlabel('Bioactivity class', fontsize=14, fontweight='bold')\n",
    "plt.ylabel('pIC50 value', fontsize=14, fontweight='bold')\n",
    "\n",
    "plt.savefig('plot_ic50.pdf')"
   ]
  },
  {
   "cell_type": "code",
   "execution_count": null,
   "metadata": {
    "id": "4_3btlUVJIik"
   },
   "outputs": [],
   "source": [
    "def mannwhitney(descriptor, verbose=False):\n",
    "  # https://machinelearningmastery.com/nonparametric-statistical-significance-tests-in-python/\n",
    "  from numpy.random import seed\n",
    "  from numpy.random import randn\n",
    "  from scipy.stats import mannwhitneyu\n",
    "\n",
    "# seed the random number generator\n",
    "  seed(1)\n",
    "\n",
    "# actives and inactives\n",
    "  selection = [descriptor, 'bioactivity_class']\n",
    "  df = df_2class[selection]\n",
    "  active = df[df.bioactivity_class == 'active']\n",
    "  active = active[descriptor]\n",
    "\n",
    "  selection = [descriptor, 'bioactivity_class']\n",
    "  df = df_2class[selection]\n",
    "  inactive = df[df.bioactivity_class == 'inactive']\n",
    "  inactive = inactive[descriptor]\n",
    "\n",
    "# compare samples\n",
    "  stat, p = mannwhitneyu(active, inactive)\n",
    "  #print('Statistics=%.3f, p=%.3f' % (stat, p))\n",
    "\n",
    "# interpret\n",
    "  alpha = 0.05\n",
    "  if p > alpha:\n",
    "    interpretation = 'Same distribution (fail to reject H0)'\n",
    "  else:\n",
    "    interpretation = 'Different distribution (reject H0)'\n",
    "\n",
    "  results = pd.DataFrame({'Descriptor':descriptor,\n",
    "                          'Statistics':stat,\n",
    "                          'p':p,\n",
    "                          'alpha':alpha,\n",
    "                          'Interpretation':interpretation}, index=[0])\n",
    "  filename = 'mannwhitneyu_' + descriptor + '.csv'\n",
    "  results.to_csv(filename)\n",
    "\n",
    "  return results"
   ]
  },
  {
   "cell_type": "code",
   "execution_count": null,
   "metadata": {
    "colab": {
     "base_uri": "https://localhost:8080/",
     "height": 80
    },
    "id": "4-N5l9MKJX2T",
    "outputId": "d304c77c-879f-4128-edde-18c8f8063c84"
   },
   "outputs": [],
   "source": [
    "mannwhitney('pIC50')"
   ]
  },
  {
   "cell_type": "code",
   "execution_count": null,
   "metadata": {
    "colab": {
     "base_uri": "https://localhost:8080/",
     "height": 513
    },
    "id": "wwHkVBJ0JZtU",
    "outputId": "e7efa5d8-ba6d-48e2-a974-1eb3ca844583"
   },
   "outputs": [],
   "source": [
    "plt.figure(figsize=(5.5, 5.5))\n",
    "\n",
    "sns.boxplot(x = 'bioactivity_class', y = 'MW', data = df_2class)\n",
    "\n",
    "plt.xlabel('Bioactivity class', fontsize=14, fontweight='bold')\n",
    "plt.ylabel('MW', fontsize=14, fontweight='bold')\n",
    "\n",
    "plt.savefig('plot_MW.pdf')"
   ]
  },
  {
   "cell_type": "code",
   "execution_count": null,
   "metadata": {
    "colab": {
     "base_uri": "https://localhost:8080/",
     "height": 80
    },
    "id": "qoI1yE-jJdqE",
    "outputId": "80f88572-16b0-410a-de1f-6aa38ae58d02"
   },
   "outputs": [],
   "source": [
    "mannwhitney('MW')"
   ]
  },
  {
   "cell_type": "code",
   "execution_count": null,
   "metadata": {
    "colab": {
     "base_uri": "https://localhost:8080/",
     "height": 513
    },
    "id": "JVZVK0sNJiuq",
    "outputId": "56b5b923-c662-45d5-ff0a-051648c50c3e"
   },
   "outputs": [],
   "source": [
    "plt.figure(figsize=(5.5, 5.5))\n",
    "\n",
    "sns.boxplot(x = 'bioactivity_class', y = 'LogP', data = df_2class)\n",
    "\n",
    "plt.xlabel('Bioactivity class', fontsize=14, fontweight='bold')\n",
    "plt.ylabel('LogP', fontsize=14, fontweight='bold')\n",
    "\n",
    "plt.savefig('plot_LogP.pdf')"
   ]
  },
  {
   "cell_type": "code",
   "execution_count": null,
   "metadata": {
    "colab": {
     "base_uri": "https://localhost:8080/",
     "height": 80
    },
    "id": "eIVIN3WwJp5i",
    "outputId": "8a6811b8-9e50-470e-f794-4f48836708c6"
   },
   "outputs": [],
   "source": [
    "mannwhitney('LogP')"
   ]
  },
  {
   "cell_type": "code",
   "execution_count": null,
   "metadata": {
    "colab": {
     "base_uri": "https://localhost:8080/",
     "height": 513
    },
    "id": "njnJy-bGJ1ma",
    "outputId": "09cd313b-e54f-4a3b-f0fc-d62fb60285d9"
   },
   "outputs": [],
   "source": [
    "plt.figure(figsize=(5.5, 5.5))\n",
    "\n",
    "sns.boxplot(x = 'bioactivity_class', y = 'NumHDonors', data = df_2class)\n",
    "\n",
    "plt.xlabel('Bioactivity class', fontsize=14, fontweight='bold')\n",
    "plt.ylabel('NumHDonors', fontsize=14, fontweight='bold')\n",
    "\n",
    "plt.savefig('plot_NumHDonors.pdf')"
   ]
  },
  {
   "cell_type": "code",
   "execution_count": null,
   "metadata": {
    "colab": {
     "base_uri": "https://localhost:8080/",
     "height": 80
    },
    "id": "6ehP2zRpJ1wK",
    "outputId": "eccafac3-d8d5-4cff-92df-08e9e839d29b"
   },
   "outputs": [],
   "source": [
    "mannwhitney('NumHDonors')"
   ]
  },
  {
   "cell_type": "code",
   "execution_count": null,
   "metadata": {
    "colab": {
     "base_uri": "https://localhost:8080/",
     "height": 513
    },
    "id": "fjG2iFzCKCcV",
    "outputId": "81eb70ec-bf98-47de-ef38-1bdc7dfca359"
   },
   "outputs": [],
   "source": [
    "plt.figure(figsize=(5.5, 5.5))\n",
    "\n",
    "sns.boxplot(x = 'bioactivity_class', y = 'NumHAcceptors', data = df_2class)\n",
    "\n",
    "plt.xlabel('Bioactivity class', fontsize=14, fontweight='bold')\n",
    "plt.ylabel('NumHAcceptors', fontsize=14, fontweight='bold')\n",
    "\n",
    "plt.savefig('plot_NumHAcceptors.pdf')"
   ]
  },
  {
   "cell_type": "code",
   "execution_count": null,
   "metadata": {
    "colab": {
     "base_uri": "https://localhost:8080/",
     "height": 80
    },
    "id": "C3rigiW8KOp7",
    "outputId": "54dbe3f6-0934-4874-e7d3-6099c024e764"
   },
   "outputs": [],
   "source": [
    "mannwhitney('NumHAcceptors')"
   ]
  },
  {
   "cell_type": "code",
   "execution_count": null,
   "metadata": {
    "colab": {
     "base_uri": "https://localhost:8080/"
    },
    "id": "wAWKTa7UKQvA",
    "outputId": "5306c64b-2f58-4d19-d2d7-b8f966c12dff"
   },
   "outputs": [],
   "source": [
    "! zip -r results.zip . -i *.csv *.pdf"
   ]
  },
  {
   "cell_type": "code",
   "execution_count": null,
   "metadata": {
    "colab": {
     "base_uri": "https://localhost:8080/"
    },
    "id": "Gbdg1mWVKZfG",
    "outputId": "a8b17ce2-6cb6-4903-fe33-22ee8bbb3540"
   },
   "outputs": [],
   "source": [
    "! wget https://github.com/dataprofessor/bioinformatics/raw/master/padel.zip\n",
    "! wget https://github.com/dataprofessor/bioinformatics/raw/master/padel.sh"
   ]
  },
  {
   "cell_type": "code",
   "execution_count": null,
   "metadata": {
    "colab": {
     "base_uri": "https://localhost:8080/"
    },
    "id": "rXKiYnNqMzJ2",
    "outputId": "ecac2e60-9d58-4a99-95b2-30c754993111"
   },
   "outputs": [],
   "source": [
    "! unzip padel.zip"
   ]
  },
  {
   "cell_type": "code",
   "execution_count": null,
   "metadata": {
    "colab": {
     "base_uri": "https://localhost:8080/"
    },
    "id": "fu9NKsRzM4EH",
    "outputId": "17d42340-2205-499d-f1ab-bd9469088b6c"
   },
   "outputs": [],
   "source": [
    "! wget https://raw.githubusercontent.com/dataprofessor/data/master/acetylcholinesterase_04_bioactivity_data_3class_pIC50.csv"
   ]
  },
  {
   "cell_type": "code",
   "execution_count": null,
   "metadata": {
    "id": "O5yPYFLzM9us"
   },
   "outputs": [],
   "source": [
    "df3 = pd.read_csv('acetylcholinesterase_04_bioactivity_data_3class_pIC50.csv')"
   ]
  },
  {
   "cell_type": "code",
   "execution_count": null,
   "metadata": {
    "colab": {
     "base_uri": "https://localhost:8080/",
     "height": 582
    },
    "id": "Z8KRzEA5NC3S",
    "outputId": "93cab49c-7f2f-46c9-e1ba-54dbcb7e155e"
   },
   "outputs": [],
   "source": [
    "df3"
   ]
  },
  {
   "cell_type": "code",
   "execution_count": null,
   "metadata": {
    "id": "gBRpaGz4NH5T"
   },
   "outputs": [],
   "source": [
    "selection = ['canonical_smiles','molecule_chembl_id']\n",
    "df3_selection = df3[selection]\n",
    "df3_selection.to_csv('molecule.smi', sep='\\t', index=False, header=False)"
   ]
  },
  {
   "cell_type": "code",
   "execution_count": null,
   "metadata": {
    "colab": {
     "base_uri": "https://localhost:8080/"
    },
    "id": "8Ib8aXV9NLF1",
    "outputId": "0be67101-ee06-45c1-bd1c-22ee87852fc2"
   },
   "outputs": [],
   "source": [
    "! cat molecule.smi | head -5"
   ]
  },
  {
   "cell_type": "code",
   "execution_count": null,
   "metadata": {
    "colab": {
     "base_uri": "https://localhost:8080/"
    },
    "id": "PFGfJFfpNN6x",
    "outputId": "08d79c7b-d077-4a4c-b021-5e83d3b415af"
   },
   "outputs": [],
   "source": [
    "! cat molecule.smi | wc -l"
   ]
  },
  {
   "cell_type": "code",
   "execution_count": null,
   "metadata": {
    "colab": {
     "base_uri": "https://localhost:8080/"
    },
    "id": "QyDeMbvpNRwH",
    "outputId": "a5d42240-409f-46f0-a63d-a212170b22fb"
   },
   "outputs": [],
   "source": [
    "! cat padel.sh"
   ]
  },
  {
   "cell_type": "code",
   "execution_count": null,
   "metadata": {
    "colab": {
     "base_uri": "https://localhost:8080/"
    },
    "id": "t6VSbyh9NWBJ",
    "outputId": "2b7003ae-f3e3-4439-e706-138f738c5848"
   },
   "outputs": [],
   "source": [
    "! bash padel.sh"
   ]
  },
  {
   "cell_type": "code",
   "execution_count": null,
   "metadata": {
    "colab": {
     "base_uri": "https://localhost:8080/"
    },
    "id": "iilf9B_0NY8p",
    "outputId": "3278a475-851b-47a4-e01f-28a3bdf0fd75"
   },
   "outputs": [],
   "source": [
    "! ls -l"
   ]
  },
  {
   "cell_type": "code",
   "execution_count": null,
   "metadata": {
    "id": "Bj3vklFvN63B"
   },
   "outputs": [],
   "source": [
    "df3_X = pd.read_csv('descriptors_output.csv')"
   ]
  },
  {
   "cell_type": "code",
   "execution_count": null,
   "metadata": {
    "colab": {
     "base_uri": "https://localhost:8080/",
     "height": 443
    },
    "id": "WYh20-_8N-kr",
    "outputId": "2f5b6122-ee86-499c-d97e-a6e8daeaa09e"
   },
   "outputs": [],
   "source": [
    "df3_X"
   ]
  },
  {
   "cell_type": "code",
   "execution_count": null,
   "metadata": {
    "colab": {
     "base_uri": "https://localhost:8080/",
     "height": 443
    },
    "id": "pGSWJH3eOBHC",
    "outputId": "782f3389-e172-4b9a-973a-19d2fd336403"
   },
   "outputs": [],
   "source": [
    "df3_X = df3_X.drop(columns=['Name'])\n",
    "df3_X"
   ]
  },
  {
   "cell_type": "code",
   "execution_count": null,
   "metadata": {
    "colab": {
     "base_uri": "https://localhost:8080/"
    },
    "id": "0jNCO4kLOFfD",
    "outputId": "1c820751-dc56-4399-9df3-475f296fe57e"
   },
   "outputs": [],
   "source": [
    "df3_Y = df3['pIC50']\n",
    "df3_Y"
   ]
  },
  {
   "cell_type": "code",
   "execution_count": null,
   "metadata": {
    "colab": {
     "base_uri": "https://localhost:8080/",
     "height": 443
    },
    "id": "g26AlEGIOJBQ",
    "outputId": "21c60f44-20aa-4b98-c1ba-9fef44d03b34"
   },
   "outputs": [],
   "source": [
    "dataset3 = pd.concat([df3_X,df3_Y], axis=1)\n",
    "dataset3"
   ]
  },
  {
   "cell_type": "code",
   "execution_count": null,
   "metadata": {
    "id": "5Tvj6u0dOOlq"
   },
   "outputs": [],
   "source": [
    "dataset3.to_csv('acetylcholinesterase_06_bioactivity_data_3class_pIC50_pubchem_fp.csv', index=False)"
   ]
  },
  {
   "cell_type": "code",
   "execution_count": null,
   "metadata": {
    "id": "X4ttKKn-PUcQ"
   },
   "outputs": [],
   "source": [
    "from sklearn.model_selection import train_test_split\n",
    "from sklearn.ensemble import RandomForestRegressor"
   ]
  },
  {
   "cell_type": "code",
   "execution_count": null,
   "metadata": {
    "colab": {
     "base_uri": "https://localhost:8080/"
    },
    "id": "hThnq3TLPVpD",
    "outputId": "3a38badc-5d48-4ca9-8c9a-0936291786ed"
   },
   "outputs": [],
   "source": [
    "! wget https://github.com/dataprofessor/data/raw/master/acetylcholinesterase_06_bioactivity_data_3class_pIC50_pubchem_fp.csv"
   ]
  },
  {
   "cell_type": "code",
   "execution_count": null,
   "metadata": {
    "id": "PhZL1fu-Pbu9"
   },
   "outputs": [],
   "source": [
    "df = pd.read_csv('acetylcholinesterase_06_bioactivity_data_3class_pIC50_pubchem_fp.csv')"
   ]
  },
  {
   "cell_type": "code",
   "execution_count": null,
   "metadata": {
    "colab": {
     "base_uri": "https://localhost:8080/",
     "height": 443
    },
    "id": "PXnpylBaPmxL",
    "outputId": "a331c333-1791-4136-c298-79457f632376"
   },
   "outputs": [],
   "source": [
    "X = df.drop('pIC50', axis=1)\n",
    "X"
   ]
  },
  {
   "cell_type": "code",
   "execution_count": null,
   "metadata": {
    "colab": {
     "base_uri": "https://localhost:8080/"
    },
    "id": "JHSrnR1FPwJD",
    "outputId": "f9de76c1-29a6-4a54-b578-ab07981ff4f3"
   },
   "outputs": [],
   "source": [
    "Y = df.pIC50\n",
    "Y"
   ]
  },
  {
   "cell_type": "code",
   "execution_count": null,
   "metadata": {
    "colab": {
     "base_uri": "https://localhost:8080/"
    },
    "id": "x59Yoia8P98m",
    "outputId": "7f3f3a16-5247-4065-817b-f0aed5d7e8fb"
   },
   "outputs": [],
   "source": [
    "X.shape"
   ]
  },
  {
   "cell_type": "code",
   "execution_count": null,
   "metadata": {
    "colab": {
     "base_uri": "https://localhost:8080/"
    },
    "id": "TMQVGlKAQCJD",
    "outputId": "a881f3df-d204-406c-e7dd-9a75e6d774ca"
   },
   "outputs": [],
   "source": [
    "Y.shape"
   ]
  },
  {
   "cell_type": "code",
   "execution_count": null,
   "metadata": {
    "id": "87IVjzFxQDaT"
   },
   "outputs": [],
   "source": [
    "from sklearn.feature_selection import VarianceThreshold\n",
    "selection = VarianceThreshold(threshold=(.8 * (1 - .8)))\n",
    "X = selection.fit_transform(X)"
   ]
  },
  {
   "cell_type": "code",
   "execution_count": null,
   "metadata": {
    "colab": {
     "base_uri": "https://localhost:8080/"
    },
    "id": "a4eO3WfMQGfZ",
    "outputId": "3d77f7d7-cd73-4c19-82d3-6d7c80b12ea4"
   },
   "outputs": [],
   "source": [
    "X.shape"
   ]
  },
  {
   "cell_type": "code",
   "execution_count": null,
   "metadata": {
    "id": "469EED2MQIaM"
   },
   "outputs": [],
   "source": [
    "X_train, X_test, Y_train, Y_test = train_test_split(X, Y, test_size=0.2)"
   ]
  },
  {
   "cell_type": "code",
   "execution_count": null,
   "metadata": {
    "colab": {
     "base_uri": "https://localhost:8080/"
    },
    "id": "FiEtQI3bQLq7",
    "outputId": "cd6cb09e-fac5-45fc-8e03-1ce2568ee004"
   },
   "outputs": [],
   "source": [
    "X_train.shape, Y_train.shape"
   ]
  },
  {
   "cell_type": "code",
   "execution_count": null,
   "metadata": {
    "colab": {
     "base_uri": "https://localhost:8080/"
    },
    "id": "skRhKl_5QN5w",
    "outputId": "795c6f79-5a84-4fe7-9f68-e8b1408bf4d9"
   },
   "outputs": [],
   "source": [
    "X_test.shape, Y_test.shape"
   ]
  },
  {
   "cell_type": "code",
   "execution_count": null,
   "metadata": {
    "colab": {
     "base_uri": "https://localhost:8080/"
    },
    "id": "wgUvh7UlQPzI",
    "outputId": "f01feb78-3c72-4d05-c2ec-d3f22e62ddeb"
   },
   "outputs": [],
   "source": [
    "model = RandomForestRegressor(n_estimators=100)\n",
    "model.fit(X_train, Y_train)\n",
    "r2 = model.score(X_test, Y_test)\n",
    "r2"
   ]
  },
  {
   "cell_type": "code",
   "execution_count": null,
   "metadata": {
    "id": "SFUQHSdBQmzg"
   },
   "outputs": [],
   "source": [
    "Y_pred = model.predict(X_test)"
   ]
  },
  {
   "cell_type": "code",
   "execution_count": null,
   "metadata": {
    "id": "Y9HFnLNXQpZb"
   },
   "outputs": [],
   "source": [
    "import seaborn as sns\n",
    "import matplotlib.pyplot as plt\n",
    "\n"
   ]
  },
  {
   "cell_type": "markdown",
   "metadata": {
    "id": "vzaHzSSnx13P"
   },
   "source": []
  },
  {
   "cell_type": "code",
   "execution_count": null,
   "metadata": {
    "colab": {
     "base_uri": "https://localhost:8080/",
     "height": 498
    },
    "id": "JBPxtqGEQtt3",
    "outputId": "a62a10f1-d9fa-44a0-8d4c-dc756eb51035"
   },
   "outputs": [],
   "source": [
    "sns.set(color_codes=True)\n",
    "sns.set_style(\"white\")\n",
    "\n",
    "ax = sns.regplot(x=Y_test,y= Y_pred, scatter_kws={'alpha':0.4})\n",
    "ax.set_xlabel('Experimental pIC50', fontsize='large', fontweight='bold')\n",
    "ax.set_ylabel('Predicted pIC50', fontsize='large', fontweight='bold')\n",
    "ax.set_xlim(0, 12)\n",
    "ax.set_ylim(0, 12)\n",
    "ax.figure.set_size_inches(5, 5)\n",
    "plt.show\n",
    "[\n",
    "\n",
    "]"
   ]
  },
  {
   "cell_type": "code",
   "execution_count": null,
   "metadata": {
    "colab": {
     "base_uri": "https://localhost:8080/"
    },
    "id": "pZwGQTQ4zYLb",
    "outputId": "cd87a922-eef0-4e1a-be84-3db451ee056c"
   },
   "outputs": [],
   "source": [
    "\n",
    "\n",
    "pip install --upgrade pip\n"
   ]
  },
  {
   "cell_type": "code",
   "execution_count": null,
   "metadata": {
    "colab": {
     "base_uri": "https://localhost:8080/",
     "height": 834
    },
    "id": "P3m9O5Na1z-v",
    "outputId": "ecd41ead-583d-4a43-ccba-b4868493b025"
   },
   "outputs": [],
   "source": [
    "!pip install --user lazypredict\n"
   ]
  },
  {
   "cell_type": "code",
   "execution_count": null,
   "metadata": {
    "id": "BGrVOdvv1hLN"
   },
   "outputs": [],
   "source": []
  },
  {
   "cell_type": "code",
   "execution_count": null,
   "metadata": {
    "id": "bWK-vzZW1hkt"
   },
   "outputs": [],
   "source": [
    "!export PATH=\"$PATH:/root/.local/bin\"\n"
   ]
  },
  {
   "cell_type": "code",
   "execution_count": null,
   "metadata": {
    "colab": {
     "base_uri": "https://localhost:8080/"
    },
    "id": "z4pWk09G1sfn",
    "outputId": "04a50e83-fc9d-43f8-daff-45e77aa9f072"
   },
   "outputs": [],
   "source": [
    "!pip install --user lazypredict"
   ]
  },
  {
   "cell_type": "code",
   "execution_count": null,
   "metadata": {
    "colab": {
     "base_uri": "https://localhost:8080/"
    },
    "id": "2VpomAb42QY0",
    "outputId": "1dd1a54d-12e4-45cd-8162-eeaf1e43be1a"
   },
   "outputs": [],
   "source": [
    "!lazypredict"
   ]
  },
  {
   "cell_type": "code",
   "execution_count": null,
   "metadata": {
    "colab": {
     "base_uri": "https://localhost:8080/"
    },
    "id": "4DgfXPA92aUj",
    "outputId": "fc7b098b-f680-4a94-9e08-8201e04a0b3a"
   },
   "outputs": [],
   "source": [
    "! pip install lazypredict"
   ]
  },
  {
   "cell_type": "code",
   "execution_count": null,
   "metadata": {
    "colab": {
     "base_uri": "https://localhost:8080/",
     "height": 57
    },
    "id": "Mc5kNNNJ2_vR",
    "outputId": "26632df7-7794-4552-be77-f7a3e1fd9353"
   },
   "outputs": [],
   "source": [
    "import os\n",
    "\n",
    "# Define the directory you want to add to the PATH\n",
    "custom_bin_directory = '/root/.local/bin'\n",
    "\n",
    "# Add the custom directory to the PATH\n",
    "os.environ['PATH'] += ':' + custom_bin_directory\n",
    "\n",
    "# Check if the directory was successfully added to the PATH\n",
    "os.environ['PATH']\n"
   ]
  },
  {
   "cell_type": "code",
   "execution_count": null,
   "metadata": {
    "colab": {
     "base_uri": "https://localhost:8080/"
    },
    "id": "WnV6DrkG4DIp",
    "outputId": "de91bab1-463d-47fa-9040-fdc59930e923"
   },
   "outputs": [],
   "source": [
    "! pip install lazypredict"
   ]
  },
  {
   "cell_type": "code",
   "execution_count": null,
   "metadata": {
    "colab": {
     "base_uri": "https://localhost:8080/",
     "height": 359
    },
    "id": "abnbvnGqzgZL",
    "outputId": "a650396c-bc54-4cc5-ecb2-4c8d60eb6fa8"
   },
   "outputs": [],
   "source": [
    "from sklearn.model_selection import train_test_split\n",
    "import lazypredict\n",
    "from lazypredict.Supervised import LazyRegressor"
   ]
  },
  {
   "cell_type": "markdown",
   "metadata": {
    "id": "muETxbeaGs3L"
   },
   "source": []
  }
 ],
 "metadata": {
  "colab": {
   "provenance": []
  },
  "kernelspec": {
   "display_name": "Python 3 (ipykernel)",
   "language": "python",
   "name": "python3"
  },
  "language_info": {
   "codemirror_mode": {
    "name": "ipython",
    "version": 3
   },
   "file_extension": ".py",
   "mimetype": "text/x-python",
   "name": "python",
   "nbconvert_exporter": "python",
   "pygments_lexer": "ipython3",
   "version": "3.11.1"
  }
 },
 "nbformat": 4,
 "nbformat_minor": 1
}
